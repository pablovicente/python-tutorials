{
 "cells": [
  {
   "cell_type": "markdown",
   "metadata": {},
   "source": [
    "# Sorting Algorithms"
   ]
  },
  {
   "cell_type": "markdown",
   "metadata": {},
   "source": [
    "## Bubble sort"
   ]
  },
  {
   "cell_type": "code",
   "execution_count": 16,
   "metadata": {
    "collapsed": false
   },
   "outputs": [
    {
     "name": "stdout",
     "output_type": "stream",
     "text": [
      "Original list:  [5, 3, 5, 0, 54, 2, 6, 26, 6, 2, 66, 2, 1, 9]\n",
      "Sorted list:  [0, 1, 2, 2, 2, 3, 5, 5, 6, 6, 9, 26, 54, 66]\n"
     ]
    }
   ],
   "source": [
    "alist = [5,3,5,0,54,2,6,26,6,2,66,2,1,9]\n",
    "print \"Original list: \", alist\n",
    "bubble_sort(alist)\n",
    "print \"Sorted list: \", alist"
   ]
  },
  {
   "cell_type": "code",
   "execution_count": 15,
   "metadata": {
    "collapsed": false
   },
   "outputs": [],
   "source": [
    "def swap(alist,i,j):\n",
    "    \n",
    "    temp = alist[i]\n",
    "    alist[i] = alist[j]\n",
    "    alist[j] = temp\n",
    "\n",
    "def bubble_sort(alist):\n",
    "    \n",
    "    length = len(alist)\n",
    "    \n",
    "    for i in range(length):\n",
    "        for j in range(i+1,length):\n",
    "            if alist[i] > alist[j]:\n",
    "                swap(alist,i,j)         \n",
    "                \n",
    "    return alist"
   ]
  },
  {
   "cell_type": "markdown",
   "metadata": {},
   "source": [
    "## Selection sort\n"
   ]
  },
  {
   "cell_type": "code",
   "execution_count": 17,
   "metadata": {
    "collapsed": false
   },
   "outputs": [
    {
     "name": "stdout",
     "output_type": "stream",
     "text": [
      "Original list:  [5, 3, 5, 0, 54, 2, 6, 26, 6, 2, 66, 2, 1, 9]\n",
      "Sorted list:  [0, 1, 2, 2, 2, 3, 5, 5, 6, 6, 9, 26, 54, 66]\n"
     ]
    }
   ],
   "source": [
    "alist = [5,3,5,0,54,2,6,26,6,2,66,2,1,9]\n",
    "print \"Original list: \", alist\n",
    "selection_sort(alist)\n",
    "print \"Sorted list: \", alist"
   ]
  },
  {
   "cell_type": "code",
   "execution_count": 13,
   "metadata": {
    "collapsed": true
   },
   "outputs": [],
   "source": [
    "def selection_sort(alist):\n",
    "    \n",
    "    lenght = len(alist)\n",
    "    \n",
    "    for i in range(lenght):\n",
    "        current_min_pos = i\n",
    "        for j in range(i+1,lenght):\n",
    "            if alist[current_min_pos] > alist[j]:\n",
    "                current_min_pos = j\n",
    "                \n",
    "        swap(alist,i,current_min_pos)"
   ]
  },
  {
   "cell_type": "markdown",
   "metadata": {},
   "source": [
    "## Merge sort"
   ]
  },
  {
   "cell_type": "markdown",
   "metadata": {},
   "source": [
    "#### Version 1: Without helper array"
   ]
  },
  {
   "cell_type": "code",
   "execution_count": 5,
   "metadata": {
    "collapsed": false
   },
   "outputs": [
    {
     "name": "stdout",
     "output_type": "stream",
     "text": [
      "Original list:  [5, 3, 5, 0, 54, 2, 6, 26, 6, 2, 66, 2, 1, 9]\n",
      "Sorted list:  [0, 1, 2, 2, 2, 3, 5, 5, 6, 6, 9, 26, 54, 66]\n"
     ]
    }
   ],
   "source": [
    "alist = [5,3,5,0,54,2,6,26,6,2,66,2,1,9]\n",
    "print \"Original list: \", alist\n",
    "merge_sort(alist,0,len(alist)-1)\n",
    "print \"Sorted list: \", alist"
   ]
  },
  {
   "cell_type": "code",
   "execution_count": 2,
   "metadata": {
    "collapsed": true
   },
   "outputs": [],
   "source": [
    "def merge_sort(alist, lower_limit, upper_limit):\n",
    "    \n",
    "    if lower_limit < upper_limit:\n",
    "        middle = (lower_limit+upper_limit)//2\n",
    "\n",
    "        merge_sort(alist,lower_limit,middle)\n",
    "        merge_sort(alist,middle+1,upper_limit)\n",
    "        merge(alist,lower_limit,middle,upper_limit)\n",
    "\n",
    "def merge(alist,low,middle,high):\n",
    "    \n",
    "    helper = [0]*len(alist)\n",
    "    for i in range(low,high+1):\n",
    "        helper[i] = alist[i]\n",
    "        \n",
    "    helperLeft = low\n",
    "    helperRight = middle+1\n",
    "    current = low\n",
    "    \n",
    "    while helperLeft<=middle and helperRight<=high:\n",
    "\n",
    "        if helper[helperLeft] <= helper[helperRight]:\n",
    "            alist[current] = helper[helperLeft]\n",
    "            helperLeft += 1\n",
    "        else:\n",
    "            alist[current] = helper[helperRight]\n",
    "            helperRight += 1\n",
    "            \n",
    "        current += 1\n",
    "\n",
    "    remaining = middle - helperLeft\n",
    "    for i in range(0,remaining+1):\n",
    "        alist[current+i] = helper[helperLeft+i]"
   ]
  },
  {
   "cell_type": "markdown",
   "metadata": {},
   "source": [
    "#### Version 2: With helper array"
   ]
  },
  {
   "cell_type": "code",
   "execution_count": 9,
   "metadata": {
    "collapsed": false
   },
   "outputs": [
    {
     "name": "stdout",
     "output_type": "stream",
     "text": [
      "Original list:  [5, 3, 5, 0, 54, 2, 6, 26, 6, 2, 66, 2, 1, 9]\n",
      "Sorted list:  [0, 1, 2, 2, 2, 3, 5, 5, 6, 6, 9, 26, 54, 66]\n"
     ]
    }
   ],
   "source": [
    "alist = [5,3,5,0,54,2,6,26,6,2,66,2,1,9]\n",
    "print \"Original list: \", alist\n",
    "merge_sort(alist,[0]*len(alist), 0,len(alist)-1)\n",
    "print \"Sorted list: \", alist"
   ]
  },
  {
   "cell_type": "code",
   "execution_count": 7,
   "metadata": {
    "collapsed": false
   },
   "outputs": [],
   "source": [
    "def merge_sort(alist, helper, lower_limit, upper_limit):\n",
    "    \n",
    "    if lower_limit < upper_limit:\n",
    "        middle = (lower_limit+upper_limit)//2\n",
    "\n",
    "        merge_sort(alist,helper,lower_limit,middle)\n",
    "        merge_sort(alist,helper,middle+1,upper_limit)\n",
    "        merge(alist,helper,lower_limit,middle,upper_limit)\n",
    "\n",
    "def merge(alist,helper,low,middle,high):\n",
    "    \n",
    "    for i in range(low,high+1):\n",
    "        helper[i] = alist[i]\n",
    "        \n",
    "    helperLeft = low\n",
    "    helperRight = middle+1\n",
    "    current = low\n",
    "    \n",
    "    while helperLeft<=middle and helperRight<=high:\n",
    "\n",
    "        if helper[helperLeft] <= helper[helperRight]:\n",
    "            alist[current] = helper[helperLeft]\n",
    "            helperLeft += 1\n",
    "        else:\n",
    "            alist[current] = helper[helperRight]\n",
    "            helperRight += 1\n",
    "            \n",
    "        current += 1\n",
    "\n",
    "    remaining = middle - helperLeft\n",
    "    for i in range(0,remaining+1):\n",
    "        alist[current+i] = helper[helperLeft+i]"
   ]
  },
  {
   "cell_type": "markdown",
   "metadata": {},
   "source": [
    "## Quick sort"
   ]
  },
  {
   "cell_type": "code",
   "execution_count": 20,
   "metadata": {
    "collapsed": false
   },
   "outputs": [
    {
     "name": "stdout",
     "output_type": "stream",
     "text": [
      "Original list:  [5, 3, 5, 0, 54, 2, 6, 26, 6, 2, 66, 2, 1, 9]\n",
      "Sorted list:  [0, 1, 2, 2, 2, 3, 5, 5, 6, 6, 9, 26, 54, 66]\n"
     ]
    }
   ],
   "source": [
    "alist = [5,3,5,0,54,2,6,26,6,2,66,2,1,9]\n",
    "print \"Original list: \", alist\n",
    "quick_sort(alist,0,len(alist)-1)\n",
    "print \"Sorted list: \", alist"
   ]
  },
  {
   "cell_type": "code",
   "execution_count": 19,
   "metadata": {
    "collapsed": false
   },
   "outputs": [],
   "source": [
    "def quick_sort(lista, left, right):\n",
    "    if left < right:\n",
    "        index = partition(lista, left, right)\n",
    "        quick_sort(lista,left,index-1)\n",
    "        quick_sort(lista,index+1,right)\n",
    "\n",
    "def partition(lista, left, right):\n",
    "\n",
    "    pivotIndex = left\n",
    "    pivot = lista[pivotIndex]\n",
    "    for index in range(left+1,right+1):\n",
    "        if lista[index]<pivot:\n",
    "            pivotIndex += 1\n",
    "            swap(lista,pivotIndex,index)\n",
    "            \n",
    "    swap(lista,left,pivotIndex)\n",
    "    return pivotIndex\n",
    "\n",
    "def swap(lista, left, right):\n",
    "    temp = lista[left]\n",
    "    lista[left] = lista[right]\n",
    "    lista[right] = temp"
   ]
  },
  {
   "cell_type": "markdown",
   "metadata": {},
   "source": [
    "## Radix sort"
   ]
  },
  {
   "cell_type": "code",
   "execution_count": 22,
   "metadata": {
    "collapsed": false
   },
   "outputs": [
    {
     "name": "stdout",
     "output_type": "stream",
     "text": [
      "Original list:  [5, 3, 5, 0, 54, 2, 6, 26, 6, 2, 66, 2, 1, 9]\n",
      "Sorted list:  [0, 1, 2, 2, 2, 3, 5, 5, 6, 6, 9, 26, 54, 66]\n"
     ]
    }
   ],
   "source": [
    "alist = [5,3,5,0,54,2,6,26,6,2,66,2,1,9]\n",
    "print \"Original list: \", alist\n",
    "radix_sort(alist)\n",
    "print \"Sorted list: \", alist"
   ]
  },
  {
   "cell_type": "code",
   "execution_count": 21,
   "metadata": {
    "collapsed": false
   },
   "outputs": [],
   "source": [
    "def radix_sort(alist):\n",
    "    RADIX = 10    \n",
    "    digit , placement = -1, 1\n",
    "    maxLength = False\n",
    "    \n",
    "    while not maxLength:\n",
    "        maxLength = True\n",
    "        \n",
    "        buckets = [list() for _ in range(10)]\n",
    "        for item in alist:\n",
    "            digit = item / placement            \n",
    "            buckets[digit % RADIX].append(item)\n",
    "            if maxLength and digit>0:\n",
    "                maxLength = False\n",
    "                \n",
    "        index = 0\n",
    "        for bucket in buckets:\n",
    "            for item in bucket:\n",
    "                alist[index] = item\n",
    "                index += 1    \n",
    "    \n",
    "        placement *= RADIX     "
   ]
  }
 ],
 "metadata": {
  "kernelspec": {
   "display_name": "Python 2",
   "language": "python",
   "name": "python2"
  },
  "language_info": {
   "codemirror_mode": {
    "name": "ipython",
    "version": 2
   },
   "file_extension": ".py",
   "mimetype": "text/x-python",
   "name": "python",
   "nbconvert_exporter": "python",
   "pygments_lexer": "ipython2",
   "version": "2.7.10"
  }
 },
 "nbformat": 4,
 "nbformat_minor": 1
}
