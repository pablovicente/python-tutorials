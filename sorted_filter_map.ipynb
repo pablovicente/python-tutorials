{
 "cells": [
  {
   "cell_type": "markdown",
   "metadata": {},
   "source": [
    "# Sorted, Filter and Map "
   ]
  },
  {
   "cell_type": "code",
   "execution_count": 43,
   "metadata": {
    "collapsed": true
   },
   "outputs": [],
   "source": [
    "class Person(object):\n",
    "    def __init__(self,age,name):\n",
    "        self.age = age\n",
    "        self.name = name"
   ]
  },
  {
   "cell_type": "markdown",
   "metadata": {
    "collapsed": true
   },
   "source": [
    "### Lambda"
   ]
  },
  {
   "cell_type": "code",
   "execution_count": 44,
   "metadata": {
    "collapsed": false
   },
   "outputs": [
    {
     "name": "stdout",
     "output_type": "stream",
     "text": [
      "100\n"
     ]
    }
   ],
   "source": [
    "square = lambda x: x**2\n",
    "print square(10)"
   ]
  },
  {
   "cell_type": "code",
   "execution_count": 45,
   "metadata": {
    "collapsed": false
   },
   "outputs": [
    {
     "name": "stdout",
     "output_type": "stream",
     "text": [
      "['peach', 'apple']\n"
     ]
    }
   ],
   "source": [
    "d = ['potato', 'peach', 'apple', 'grape']\n",
    "a = [1,2]\n",
    "print map(lambda x: d[x], a)"
   ]
  },
  {
   "cell_type": "code",
   "execution_count": 46,
   "metadata": {
    "collapsed": false
   },
   "outputs": [
    {
     "name": "stdout",
     "output_type": "stream",
     "text": [
      "False\n"
     ]
    }
   ],
   "source": [
    "ar = [4]\n",
    "ar2 = [10]\n",
    "\n",
    "comp = lambda x,y: x>y\n",
    "print comp(ar,ar2)"
   ]
  },
  {
   "cell_type": "markdown",
   "metadata": {
    "collapsed": true
   },
   "source": [
    "### Map "
   ]
  },
  {
   "cell_type": "code",
   "execution_count": 47,
   "metadata": {
    "collapsed": false
   },
   "outputs": [
    {
     "data": {
      "text/plain": [
       "[1, 4, 27, 256, 3125]"
      ]
     },
     "execution_count": 47,
     "metadata": {},
     "output_type": "execute_result"
    }
   ],
   "source": [
    "ar = [1,2,3,4,5]\n",
    "map(lambda x:x**x,ar)"
   ]
  },
  {
   "cell_type": "markdown",
   "metadata": {
    "collapsed": true
   },
   "source": [
    "### Sort"
   ]
  },
  {
   "cell_type": "code",
   "execution_count": 48,
   "metadata": {
    "collapsed": false
   },
   "outputs": [
    {
     "data": {
      "text/plain": [
       "[5, 4, 3, 2, 1]"
      ]
     },
     "execution_count": 48,
     "metadata": {},
     "output_type": "execute_result"
    }
   ],
   "source": [
    "ar = [1,2,3,4,5]\n",
    "sorted(ar,key=lambda x:(-x))"
   ]
  },
  {
   "cell_type": "code",
   "execution_count": 49,
   "metadata": {
    "collapsed": false
   },
   "outputs": [
    {
     "name": "stdout",
     "output_type": "stream",
     "text": [
      "Using List Comprenhension\n",
      "['Frank', 'Leonard', 'Louis', 'Anna']\n"
     ]
    }
   ],
   "source": [
    "people = [Person(10,'Frank'),Person(50,'Anna'),Person(32,'Louis'),Person(32,'Leonard')]\n",
    "print \"Using List Comprenhension\"\n",
    "print [person.name for person in sorted(people,key=lambda x:(x.age,x.name))]"
   ]
  },
  {
   "cell_type": "markdown",
   "metadata": {
    "collapsed": true
   },
   "source": [
    "### Filter"
   ]
  },
  {
   "cell_type": "code",
   "execution_count": 50,
   "metadata": {
    "collapsed": false
   },
   "outputs": [
    {
     "data": {
      "text/plain": [
       "[5]"
      ]
     },
     "execution_count": 50,
     "metadata": {},
     "output_type": "execute_result"
    }
   ],
   "source": [
    "ar = [1,2,3,4,5]\n",
    "filter(lambda x:x>4,ar)"
   ]
  },
  {
   "cell_type": "code",
   "execution_count": 51,
   "metadata": {
    "collapsed": false
   },
   "outputs": [
    {
     "data": {
      "text/plain": [
       "['Ana', 'Anacleto']"
      ]
     },
     "execution_count": 51,
     "metadata": {},
     "output_type": "execute_result"
    }
   ],
   "source": [
    "people = [Person(10,'Paco'),Person(50,'Ana'),Person(32,'Luis'),Person(32,'Anacleto')]\n",
    "[person.name for person in filter(lambda x:'a'.upper() in x.name.capitalize(), people)]"
   ]
  },
  {
   "cell_type": "markdown",
   "metadata": {},
   "source": [
    "### Combining functions"
   ]
  },
  {
   "cell_type": "code",
   "execution_count": 52,
   "metadata": {
    "collapsed": false
   },
   "outputs": [
    {
     "name": "stdout",
     "output_type": "stream",
     "text": [
      "Older than 43: \t[(50, 'Anna')]\n",
      "Squaring age: \t[100, 2500, 1024, 1024]\n",
      "Sorting: \t[(10, 'Frank'), (32, 'Leonard'), (32, 'Louis'), (50, 'Anna')]\n"
     ]
    }
   ],
   "source": [
    "people = [Person(10,'Frank'),Person(50,'Anna'),Person(32,'Louis'),Person(32,'Leonard')]\n",
    "\n",
    "print \"Older than 43: \\t\", map(lambda x: (x.age,x.name), filter(lambda x: x.age>43, people))\n",
    "print \"Squaring age: \\t\", map(lambda x: x.age**2, people)\n",
    "print \"Sorting: \\t\", map(lambda x: (x.age,x.name), sorted(people, key=lambda x: (x.age,x.name)))"
   ]
  }
 ],
 "metadata": {
  "kernelspec": {
   "display_name": "Python 2",
   "language": "python",
   "name": "python2"
  },
  "language_info": {
   "codemirror_mode": {
    "name": "ipython",
    "version": 2
   },
   "file_extension": ".py",
   "mimetype": "text/x-python",
   "name": "python",
   "nbconvert_exporter": "python",
   "pygments_lexer": "ipython2",
   "version": "2.7.10"
  }
 },
 "nbformat": 4,
 "nbformat_minor": 1
}
