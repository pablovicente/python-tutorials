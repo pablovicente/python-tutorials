{
 "cells": [
  {
   "cell_type": "markdown",
   "metadata": {},
   "source": [
    "Given an array of n non-negative numbers, the task is to find the minimum sum of elements (picked from the array) such that at least one element is picked out of every 3 consecutive elements in the array."
   ]
  },
  {
   "cell_type": "code",
   "execution_count": 38,
   "metadata": {
    "collapsed": false
   },
   "outputs": [],
   "source": [
    "def findMinSum(arr, n):\n",
    "    \n",
    "    # Create a DP table to store results of\n",
    "    # subpriblems. sum[i] is going to store\n",
    "    # minimum possible sum when arr[i] is\n",
    "    # part of the solution.\n",
    "    sumN = [0]*n\n",
    " \n",
    "    # When there are less than or equal to\n",
    "    # 3 elements\n",
    "    sumN[0] = arr[0]\n",
    "    sumN[1] = arr[1]\n",
    "    sumN[2] = arr[2]\n",
    " \n",
    "    # Iterate through all other elements\n",
    "    for i in range(3,n):\n",
    "        sumN[i] = arr[i] +min(sumN[i-3], sumN[i-2], sumN[i-1]);\n",
    " \n",
    "    return min(sumN[n-1], sumN[n-2], sumN[n-3])\n",
    "\n",
    "def findMinSumR(arr, offset):\n",
    "    \n",
    "    minN = sys.maxint\n",
    "    for (int i = 0; i < offset; i++):\n",
    "        minN = Integer.min(findMin(arr, i, offset), min)\n",
    "    \n",
    "    return minN\n",
    "\n",
    "def findMin(arr, i, offset):\n",
    "\n",
    "        if (i >= arr.length)\n",
    "            return 0\n",
    "\n",
    "        int sum = sys.maxint\n",
    "        for (int in = i + 1; in <= i + offset; in++) {\n",
    "            sum = Integer.min(arr[i] + findMin(arr, in, offset), sum);\n",
    "        }\n",
    "\n",
    "        return sum;"
   ]
  },
  {
   "cell_type": "code",
   "execution_count": 42,
   "metadata": {
    "collapsed": false
   },
   "outputs": [],
   "source": [
    "arr = [1, 2, 3, 20, 2, 10, 1]\n",
    "#arr = [1, 2, 3, 6, 7, 1, 8, 6, 2, 7, 7, 1]"
   ]
  },
  {
   "cell_type": "code",
   "execution_count": 62,
   "metadata": {
    "collapsed": false
   },
   "outputs": [
    {
     "name": "stdout",
     "output_type": "stream",
     "text": [
      "b a\n"
     ]
    }
   ],
   "source": [
    "import re\n",
    "s = '   a   b '\n",
    "\n",
    "string = re.split(\"[' ']+\", s.strip())\n",
    "string.reverse()\n",
    "s = \" \".join(string) \n",
    "print s"
   ]
  },
  {
   "cell_type": "markdown",
   "metadata": {},
   "source": [
    "## Cost of running a business (difficulty: 5)"
   ]
  },
  {
   "cell_type": "markdown",
   "metadata": {},
   "source": [
    "You are running a small business for n months. Each month i, you either run it out of your office in New York and incur an operating cost Ni, or out of your office in Seattle and incur a cost Si. If you move to a different city in month i + 1, you pay a fixed cost M. <br>\n",
    "A plan is a sequence of n locations such that the i-th location indicates the city you will based in month i. The cost of a plan is the sum of all the operating costs plus any moving costs. Give an algorithm that computes the plan of minimum cost, and its cost.\n",
    "<br>\n",
    "Example: n = 4, M = 10, Ni,Si as below <br>"
   ]
  },
  {
   "cell_type": "code",
   "execution_count": 15,
   "metadata": {
    "collapsed": false
   },
   "outputs": [
    {
     "name": "stdout",
     "output_type": "stream",
     "text": [
      "['SE', 'NY', 'SE', 'NY', 'SE', 'NY', 'SE', 'NY', 'SE', 'NY']\n"
     ]
    }
   ],
   "source": [
    "n = 4\n",
    "M = 10\n",
    "NY = [1, 3, 20, 30]\n",
    "SE = [50, 20, 2, 4]\n",
    "\n",
    "NY = [100, 1, 100, 1, 100, 1, 100, 1, 100, 1] \n",
    "SE = [1, 100, 1, 100, 1, 100, 1, 100, 1, 100]\n",
    "n = 10\n",
    "M = 10\n",
    "\n",
    "dp = [0]*n\n",
    "dp[0] = 'NY' if NY[0] < SE[0] else 'SE'\n",
    "\n",
    "for i in range(1, n):\n",
    "\n",
    "    if dp[i-1] == 'NY':\n",
    "        dp[i] = 'NY' if NY[i] + M < SE[i] else 'SE'\n",
    "    else:\n",
    "        dp[i] = 'NY' if NY[i] < SE[i] + M else 'SE'\n",
    "\n",
    "print dp"
   ]
  },
  {
   "cell_type": "markdown",
   "metadata": {},
   "source": [
    "## Travel Planning (difficulty: 5)"
   ]
  },
  {
   "cell_type": "markdown",
   "metadata": {},
   "source": [
    "You are going on a long trip. You start on the road at mile post 0. Along the way there are n hotels, at mile posts\n",
    "a1 < a2 < · · · < an, where each ai is measured from the starting point. The only places you are allowed to stop are at these hotels, but you can choose which of the hotels you stop at. Your destination is the final hotel (at distance an) and you must stop there. <br>\n",
    "You’d ideally like to travel 200 miles a day, but this may not be possible, depending on the spacing of the hotels. If you travel x miles during a day, the penalty for that day is (200 − x)2. Your task is to give an efficient algorithm that minimizes the total penalty —that is, the sum, over all travel days, of the daily penalties."
   ]
  },
  {
   "cell_type": "code",
   "execution_count": 27,
   "metadata": {
    "collapsed": false
   },
   "outputs": [
    {
     "name": "stdout",
     "output_type": "stream",
     "text": [
      "[0, 10000, 2500, 5000, 2500, 2500, 2500, 5000, 2500]\n"
     ]
    }
   ],
   "source": [
    "a = [0]\n",
    "opt = [0]\n",
    "\n",
    "a = [0,200]\n",
    "opt = [0, 0]\n",
    "\n",
    "a = [0,200,400,600,800,1000]\n",
    "opt = [0, 0, 0, 0, 0, 0]\n",
    "\n",
    "a = [0,400,800,1600,1700,112000]\n",
    "opt = [0, 40000, 80000, 440000, 450000, 12122460000]\n",
    "\n",
    "a = [0,100,150,300,350,550,750,800,950]\n",
    "opt = [0, 10000, 2500, 5000, 2500, 2500, 2500, 5000, 2500]\n",
    "\n",
    "n = len(a)\n",
    "dp = [0]*n\n",
    "\n",
    "for i in range(1, n):\n",
    "    dp[i] = sys.maxint\n",
    "    for j in range(i):\n",
    "        tmp = dp[j] + (200 - (a[i] - a[j]))**2\n",
    "\n",
    "        if tmp < dp[i]:\n",
    "            dp[i] = tmp\n",
    "            \n",
    "print dp"
   ]
  },
  {
   "cell_type": "markdown",
   "metadata": {},
   "source": [
    "## A game with stones (difficulty: 5)"
   ]
  },
  {
   "cell_type": "markdown",
   "metadata": {},
   "source": [
    "You’re playing a game with stones. At the beginning of the game, there are n piles of stones, each of size pi ≥ 1, in a line. Your goal is to merge the stones in one big pile subject to the following rules of the game: <br>\n",
    "1. At each step, you can merge two adjacent piles of sizes x, y to obtain a new pile of size x+y.<br>\n",
    "2. The cost of merging a pile of size x with a pile of size y is x+y.<br>\n",
    "\n",
    "Your goal is to merge all the stones in one big pile so that the total cost is minimized. Design an algorithm for this task.<br>"
   ]
  },
  {
   "cell_type": "code",
   "execution_count": null,
   "metadata": {
    "collapsed": true
   },
   "outputs": [],
   "source": []
  },
  {
   "cell_type": "markdown",
   "metadata": {},
   "source": [
    "## Longest monotonically increasing subsequence (dificulty: 5)"
   ]
  },
  {
   "cell_type": "markdown",
   "metadata": {},
   "source": [
    "Give an e cient algorithm to compute the length of the longest increasing subsequence of a sequence of numbers a1, . . . , an. <br>\n",
    "A subsequence is any subset of these numbers taken in order, of the form ai1,ai2,...,aik, where 1  i1 < i2 < ... < ik  n. An increasing subsequence is one in which the numbers are getting strictly larger.<br>\n",
    "Example<br>\n",
    "Input: 5,2,8,6,3,6,7<br>\n",
    "Output: 4 (corresponding to subsequence 2, 3, 6, 7)<br>"
   ]
  },
  {
   "cell_type": "code",
   "execution_count": 9,
   "metadata": {
    "collapsed": false
   },
   "outputs": [
    {
     "name": "stdout",
     "output_type": "stream",
     "text": [
      "[1, 1, 2, 2, 2, 3, 4]\n"
     ]
    }
   ],
   "source": [
    "a = [5,2,8,6,3,6,7]\n",
    "n = len(a)\n",
    "dp = [1]*n\n",
    "\n",
    "for i in range(1,n):\n",
    "    for j in range(0,i):\n",
    "        if a[i] > a[j] and dp[i] < dp[j] + 1:\n",
    "            dp[i] = dp[j]+1\n",
    "            \n",
    "print dp    "
   ]
  },
  {
   "cell_type": "markdown",
   "metadata": {},
   "source": [
    "## A card game (dificulty: 8)"
   ]
  },
  {
   "cell_type": "markdown",
   "metadata": {},
   "source": [
    "Consider the following game. To begin, n cards are laid out in order from left to right, where n is even. The i-th card from the left has value vi. Two players take turns, each taking one card, with the restriction that on a player’s turn, they can only take either the leftmost or the rightmost card remaining. The goal is to collect cards of the largest total value. <br>\n",
    "Give an O(n2) dynamic programming algorithm that precomputes the optimal strategy."
   ]
  },
  {
   "cell_type": "code",
   "execution_count": 24,
   "metadata": {
    "collapsed": false
   },
   "outputs": [
    {
     "name": "stdout",
     "output_type": "stream",
     "text": [
      "8 \t15 \t11 \t15 \t\n",
      "0 \t15 \t15 \t18 \t\n",
      "0 \t0 \t3 \t7 \t\n",
      "0 \t0 \t0 \t7 \t\n"
     ]
    },
    {
     "data": {
      "text/plain": [
       "15"
      ]
     },
     "execution_count": 24,
     "metadata": {},
     "output_type": "execute_result"
    }
   ],
   "source": [
    "def card_game(a):\n",
    "    \n",
    "    n = len(a)\n",
    "    dp = [[0]*n for _ in range(n)]\n",
    "    \n",
    "    for gap in range(n):\n",
    "        for i, j in zip(range(0, n), range(gap, n)):\n",
    "            x = dp[i+2][j] if (i+2) <= j else 0\n",
    "            y = dp[i+1][j-1] if (i+1) <= (j-1) else 0            \n",
    "            z = dp[i+2][j] if i <= (j-2) else 0\n",
    "            dp[i][j] = max(a[i] + min(x, y), a[j] + min(y, z))            \n",
    "            \n",
    "    for i in range(n):\n",
    "        for j in range(n):\n",
    "            print dp[i][j],'\\t',\n",
    "        print \n",
    "        \n",
    "    return dp[0][n-1]\n",
    "\n",
    "a = [8, 15, 3, 7]\n",
    "card_game(a)"
   ]
  }
 ],
 "metadata": {
  "kernelspec": {
   "display_name": "Python 2",
   "language": "python",
   "name": "python2"
  },
  "language_info": {
   "codemirror_mode": {
    "name": "ipython",
    "version": 2
   },
   "file_extension": ".py",
   "mimetype": "text/x-python",
   "name": "python",
   "nbconvert_exporter": "python",
   "pygments_lexer": "ipython2",
   "version": "2.7.10"
  }
 },
 "nbformat": 4,
 "nbformat_minor": 1
}
