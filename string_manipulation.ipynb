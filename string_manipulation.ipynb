{
 "cells": [
  {
   "cell_type": "markdown",
   "metadata": {},
   "source": [
    "# String Manipulation"
   ]
  },
  {
   "cell_type": "markdown",
   "metadata": {},
   "source": [
    "The following snippet shows the most important built in functions that you should be familiar."
   ]
  },
  {
   "cell_type": "code",
   "execution_count": 69,
   "metadata": {
    "collapsed": true
   },
   "outputs": [],
   "source": [
    "sample_string = \"  this sample string will be used as a SAMPLE string \""
   ]
  },
  {
   "cell_type": "code",
   "execution_count": 70,
   "metadata": {
    "collapsed": false
   },
   "outputs": [
    {
     "data": {
      "text/plain": [
       "'  this sample'"
      ]
     },
     "execution_count": 70,
     "metadata": {},
     "output_type": "execute_result"
    }
   ],
   "source": [
    "# Slicing work the same way as in arrays\n",
    "sample_string[:13]"
   ]
  },
  {
   "cell_type": "code",
   "execution_count": 71,
   "metadata": {
    "collapsed": false
   },
   "outputs": [
    {
     "data": {
      "text/plain": [
       "['', '', 'this', 'sample', 'string will be used as a SAMPLE string ']"
      ]
     },
     "execution_count": 71,
     "metadata": {},
     "output_type": "execute_result"
    }
   ],
   "source": [
    "# Splits string according to delimiter and returns list of substrings;\n",
    "# space is the default delimiter\n",
    "# split into at most n substrings, where n is optional\n",
    "sample_string.split(' ', 4)"
   ]
  },
  {
   "cell_type": "code",
   "execution_count": 72,
   "metadata": {
    "collapsed": false
   },
   "outputs": [
    {
     "data": {
      "text/plain": [
       "['  this sample string will be used as a SAMPLE string ']"
      ]
     },
     "execution_count": 72,
     "metadata": {},
     "output_type": "execute_result"
    }
   ],
   "source": [
    "# Splits string at all (or num) NEWLINEs and returns a list of each line with NEWLINEs removed.\n",
    "sample_string.splitlines()"
   ]
  },
  {
   "cell_type": "code",
   "execution_count": 73,
   "metadata": {
    "collapsed": false
   },
   "outputs": [
    {
     "data": {
      "text/plain": [
       "'$$this$sample$string$will$be$used$as$a$SAMPLE$string$'"
      ]
     },
     "execution_count": 73,
     "metadata": {},
     "output_type": "execute_result"
    }
   ],
   "source": [
    "# Replaces all occurrences of the in the string of first argument with\n",
    "# the second one at most n occurrences\n",
    "sample_string.replace(' ', '$') "
   ]
  },
  {
   "cell_type": "code",
   "execution_count": 74,
   "metadata": {
    "collapsed": false
   },
   "outputs": [
    {
     "name": "stdout",
     "output_type": "stream",
     "text": [
      "strip:   this sample string will be used as a SAMPLE string \n",
      "rstrip:   this sample string will be used as a SAMPLE string\n",
      "lstrip: this sample string will be used as a SAMPLE string \n"
     ]
    }
   ],
   "source": [
    "# Removes all leading and trailing repetition of the provided pattern in string\n",
    "print \"strip:\", sample_string.strip('s')\n",
    "# Removes all leading repetition of the provided pattern in string\n",
    "print \"rstrip:\", sample_string.rstrip()\n",
    "# Removes all  trailing repetition of the provided pattern in string\n",
    "print \"lstrip:\", sample_string.lstrip()"
   ]
  },
  {
   "cell_type": "code",
   "execution_count": 75,
   "metadata": {
    "collapsed": false
   },
   "outputs": [
    {
     "name": "stdout",
     "output_type": "stream",
     "text": [
      "str: 123\n",
      "unicode 123\n",
      "ord: 97\n",
      "chr a\n",
      "unichr: a\n"
     ]
    }
   ],
   "source": [
    "# Return the string of the object parameter\n",
    "print \"str:\", str('123')\n",
    "# Return the Unicode string of the object parameter\n",
    "print \"unicode\", unicode('123')\n",
    "# Given a string of length one, return an integer representing the Unicode code\n",
    "print \"ord:\", ord('a')\n",
    "# Return a string of one character whose ASCII code is the integer parameter\n",
    "print \"chr\", chr(97)\n",
    "# Return the Unicode string of one character whose Unicode code is the integer i\n",
    "print \"unichr:\", unichr(97)"
   ]
  },
  {
   "cell_type": "code",
   "execution_count": 76,
   "metadata": {
    "collapsed": false
   },
   "outputs": [
    {
     "name": "stdout",
     "output_type": "stream",
     "text": [
      "   lower:   this sample string will be used as a sample string \n",
      "   upper:   THIS SAMPLE STRING WILL BE USED AS A SAMPLE STRING \n",
      "swapcase:   THIS SAMPLE STRING WILL BE USED AS A sample STRING \n"
     ]
    }
   ],
   "source": [
    "# Converts all uppercase/lowercase letters to lowercase/uppercase\n",
    "print \"   lower:\", sample_string.lower()\n",
    "print \"   upper:\", sample_string.upper()\n",
    "# Inverts case for all letters\n",
    "print \"swapcase:\", sample_string.swapcase()"
   ]
  },
  {
   "cell_type": "markdown",
   "metadata": {},
   "source": [
    "### Secondary methods"
   ]
  },
  {
   "cell_type": "markdown",
   "metadata": {},
   "source": [
    "Although important, you will probably use them less frequently."
   ]
  },
  {
   "cell_type": "code",
   "execution_count": 77,
   "metadata": {
    "collapsed": false
   },
   "outputs": [
    {
     "data": {
      "text/plain": [
       "'  this sample string will be used as a sample string '"
      ]
     },
     "execution_count": 77,
     "metadata": {},
     "output_type": "execute_result"
    }
   ],
   "source": [
    "# Capitalizes first letter of string\n",
    "sample_string.capitalize()"
   ]
  },
  {
   "cell_type": "code",
   "execution_count": 78,
   "metadata": {
    "collapsed": false
   },
   "outputs": [
    {
     "data": {
      "text/plain": [
       "'               this sample string will be used as a SAMPLE string               '"
      ]
     },
     "execution_count": 78,
     "metadata": {},
     "output_type": "execute_result"
    }
   ],
   "source": [
    "# Returns a string center for the width provided.\n",
    "sample_string.center(80, ' ')"
   ]
  },
  {
   "cell_type": "code",
   "execution_count": 79,
   "metadata": {
    "collapsed": false
   },
   "outputs": [
    {
     "name": "stdout",
     "output_type": "stream",
     "text": [
      "2\n",
      "1\n"
     ]
    }
   ],
   "source": [
    "# Counts how many times str occurs in string or substring if setting min and max indices are set\n",
    "# IT´S CASE SENSITIVE\n",
    "print sample_string.count('string') \n",
    "print sample_string.count('string', 0, 30)"
   ]
  },
  {
   "cell_type": "code",
   "execution_count": 80,
   "metadata": {
    "collapsed": false
   },
   "outputs": [
    {
     "name": "stdout",
     "output_type": "stream",
     "text": [
      "False\n",
      "True\n"
     ]
    }
   ],
   "source": [
    "# Test if string or a substring of string ends with provided string\n",
    "print sample_string.endswith('SAMPLE') \n",
    "print sample_string.endswith('SAMPLE', 0, len(sample_string)-8)"
   ]
  },
  {
   "cell_type": "code",
   "execution_count": 81,
   "metadata": {
    "collapsed": false
   },
   "outputs": [
    {
     "name": "stdout",
     "output_type": "stream",
     "text": [
      "find: 14\n",
      "rfind: 46\n"
     ]
    }
   ],
   "source": [
    "# Determine if provided string occurs in string or in a substring\n",
    "# Return index of first appearance or -1 if not found\n",
    "print \"find:\", sample_string.find('string') #(beg=0 end=len(string))\n",
    "# Performs search starting from the right\n",
    "print \"rfind:\", sample_string.rfind('string') #(beg=0 end=len(string))"
   ]
  },
  {
   "cell_type": "code",
   "execution_count": 82,
   "metadata": {
    "collapsed": false
   },
   "outputs": [
    {
     "name": "stdout",
     "output_type": "stream",
     "text": [
      "index: 21\n",
      "rindex: 21\n"
     ]
    }
   ],
   "source": [
    "# Determine if provided string occurs in string or in a substring\n",
    "# Return index of first appearance or raised an exception if not found\n",
    "print \"index:\", sample_string.index('will be') #(beg=0, end=len(string))\n",
    "# Performs index search starting from the right\n",
    "print \"rindex:\", sample_string.rindex('will be') #(beg=0, end=len(string))"
   ]
  },
  {
   "cell_type": "code",
   "execution_count": 83,
   "metadata": {
    "collapsed": false
   },
   "outputs": [
    {
     "name": "stdout",
     "output_type": "stream",
     "text": [
      "isalnum() False\n",
      "isalpha() False\n",
      "isdigit() False\n",
      "islower() False\n",
      "isspace() False\n",
      "isupper() False\n"
     ]
    }
   ],
   "source": [
    "# Returns true if string has at least 1 character and all characters\n",
    "# are alphanumeric and false otherwise.\n",
    "print \"isalnum()\", sample_string.isalnum()\n",
    "# Returns true if string has at least 1 character and all characters\n",
    "# are alphabetic and false otherwise.\n",
    "print \"isalpha()\", sample_string.isalpha()\n",
    "# Returns true if string contains only digits and false otherwise.\n",
    "print \"isdigit()\", sample_string.isdigit()\n",
    "# Returns true if string has at least 1 cased character and all cased \n",
    "# characters are in lowercase and false otherwise.\n",
    "print \"islower()\", sample_string.islower()\n",
    "# Returns true if string contains only whitespace characters and \n",
    "# false otherwise.\n",
    "print \"isspace()\", sample_string.isspace()\n",
    "# Returns true if string is properly \"titlecased\" and false otherwise.\n",
    "sample_string.istitle()\n",
    "# Returns true if string has at least one cased character and all \n",
    "# cased characters are in uppercase and false otherwise.\n",
    "print \"isupper()\", sample_string.isupper()"
   ]
  },
  {
   "cell_type": "code",
   "execution_count": 84,
   "metadata": {
    "collapsed": false
   },
   "outputs": [
    {
     "name": "stdout",
     "output_type": "stream",
     "text": [
      "ljust:   this sample string will be used as a SAMPLE string                            \n",
      "rjust:                              this sample string will be used as a SAMPLE string \n"
     ]
    }
   ],
   "source": [
    "# Returns a string with the original string left-justified \n",
    "print \"ljust:\", sample_string.ljust(80,' ')\n",
    "# Returns a string with the original string right-justified to a total of width columns\n",
    "print \"rjust:\", sample_string.rjust(80,' ')"
   ]
  },
  {
   "cell_type": "markdown",
   "metadata": {},
   "source": [
    "For a more detailed explanation of string refer to:\n",
    "    \n",
    "[1] https://docs.python.org/2/library/string.html\n",
    "\n",
    "[2] https://www.tutorialspoint.com/python/python_strings.htm"
   ]
  }
 ],
 "metadata": {
  "kernelspec": {
   "display_name": "Python 2",
   "language": "python",
   "name": "python2"
  },
  "language_info": {
   "codemirror_mode": {
    "name": "ipython",
    "version": 2
   },
   "file_extension": ".py",
   "mimetype": "text/x-python",
   "name": "python",
   "nbconvert_exporter": "python",
   "pygments_lexer": "ipython2",
   "version": "2.7.10"
  }
 },
 "nbformat": 4,
 "nbformat_minor": 1
}
